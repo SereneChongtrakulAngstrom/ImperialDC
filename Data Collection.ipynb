{
 "cells": [
  {
   "cell_type": "code",
   "execution_count": null,
   "id": "1e64d25e",
   "metadata": {},
   "outputs": [],
   "source": [
    "import pandas as pd\n",
    "import matplotlib.pyplot as plt"
   ]
  },
  {
   "cell_type": "code",
   "execution_count": null,
   "id": "be725e06",
   "metadata": {},
   "outputs": [],
   "source": [
    "# Read in all the necessary datasets and print out heads to see how they link to each other\n",
    "\n",
    "# boxscores information shows us information for each player per fixture they have played\n",
    "df_boxscores = pd.read_csv('Boxscores.csv', index_col=0)\n",
    "print(df_boxscores.shape)\n",
    "df_boxscores.head()"
   ]
  },
  {
   "cell_type": "code",
   "execution_count": null,
   "id": "a582a789",
   "metadata": {},
   "outputs": [],
   "source": [
    "# We can see negative three pointers as well as 'high' values that seem unreasonable.\n",
    "# e.g. a player is very unlikely to have made 500 3 pointers\n",
    "df_boxscores.describe()"
   ]
  },
  {
   "cell_type": "code",
   "execution_count": null,
   "id": "ed84b545",
   "metadata": {},
   "outputs": [],
   "source": [
    "# Some things to look out for: \n",
    "# having more 3 pointers made than actual attempts\n",
    "print(df_boxscores[df_boxscores['ThreePointers'] > df_boxscores['ThreePointersAttempted']][['ThreePointers', 'ThreePointersAttempted']])\n",
    "\n",
    "# get rid of those rows\n",
    "df_boxscores = df_boxscores.drop([16, 352754])\n",
    "print(df_boxscores.shape)"
   ]
  },
  {
   "cell_type": "code",
   "execution_count": null,
   "id": "68ed48b0",
   "metadata": {},
   "outputs": [],
   "source": [
    "# having an unrealistic number of 3 pointers attempted (e.g. 1000 or -10). Look at negative values first.\n",
    "print(df_boxscores[df_boxscores['ThreePointers'] < 0][['ThreePointers']])\n",
    "print(df_boxscores[df_boxscores['ThreePointersAttempted'] < 0][['ThreePointersAttempted']])\n",
    "\n",
    "# get rid of those rows\n",
    "df_boxscores = df_boxscores.drop([4])\n",
    "print(df_boxscores.shape)"
   ]
  },
  {
   "cell_type": "code",
   "execution_count": null,
   "id": "107de12a",
   "metadata": {},
   "outputs": [],
   "source": [
    "# Look at other outliers\n",
    "print(df_boxscores.describe())\n",
    "\n",
    "# These 'outliers' all look reasonable, so no need to get rid of any of the rows\n",
    "ax = df_boxscores[['ThreePointers', 'ThreePointersAttempted']].plot(kind='box', title='Three Pointers Made/Attempted Per Fixture')\n",
    "plt.show()"
   ]
  },
  {
   "cell_type": "code",
   "execution_count": null,
   "id": "dfcdd719",
   "metadata": {},
   "outputs": [],
   "source": [
    "# fixtures information shows us each fixture's id and the season the fixture corresponds to\n",
    "df_fixtures = pd.read_csv('Fixtures.csv', index_col=0)\n",
    "print(df_fixtures.shape)\n",
    "df_fixtures.head()"
   ]
  },
  {
   "cell_type": "code",
   "execution_count": null,
   "id": "d3b88ed1",
   "metadata": {},
   "outputs": [],
   "source": [
    "# Can see some rows with NaNs. Remove those from the dataframe\n",
    "df_fixtures = df_fixtures.dropna()\n",
    "print(df_fixtures.shape)"
   ]
  },
  {
   "cell_type": "code",
   "execution_count": null,
   "id": "6f0384f2",
   "metadata": {},
   "outputs": [],
   "source": [
    "# players information shows us each player's height, weight, dob and full name\n",
    "df_players = pd.read_csv('Players.csv', index_col=0)\n",
    "print(df_players.shape)\n",
    "df_players.head()"
   ]
  },
  {
   "cell_type": "code",
   "execution_count": null,
   "id": "695e6b06",
   "metadata": {},
   "outputs": [],
   "source": [
    "# Can see a duplicate, check for others and remove from the dataframe\n",
    "print(df_players[df_players.duplicated(keep='last')])\n",
    "\n",
    "# There's only 1 duplicate entry, so get rid of duplicate row\n",
    "df_players = df_players.drop([2561])\n",
    "print(df_players[df_players.duplicated(keep='last')])\n",
    "df_players"
   ]
  },
  {
   "cell_type": "code",
   "execution_count": null,
   "id": "a1a1fbe1",
   "metadata": {},
   "outputs": [],
   "source": [
    "# Now that we have all the data imported and cleaned, let's compile the data into something we can use\n",
    "\n",
    "# Columns we care about\n",
    "columns = ['Player', 'Season', 'FirstName', 'Surname', 'ThreePointers', 'ThreePointersAttempted']\n",
    "\n",
    "# Merge to get FixtureKey, Player name and season\n",
    "df_merged_players = pd.merge(df_boxscores, df_players, left_on='Player', right_on='PlayerID', how='left')\n",
    "df_merged = pd.merge(df_merged_players, df_fixtures, left_on='FixtureURL', right_on='FixtureKey', how='left')\n",
    "df_merged[columns]"
   ]
  },
  {
   "cell_type": "code",
   "execution_count": null,
   "id": "cb1593d4",
   "metadata": {},
   "outputs": [],
   "source": [
    "df_all = df_merged.copy()[columns]\n",
    "df_all['Name'] = df_all['FirstName'] + ' ' + df_all['Surname']\n",
    "\n",
    "# group by name and season\n",
    "df_all = df_all[['Name', 'Season', 'ThreePointers', 'ThreePointersAttempted']].groupby(['Name', 'Season']).sum().copy()\n",
    "\n",
    "df_all['ThreePointersMissed'] = df_all['ThreePointersAttempted'] - df_all['ThreePointers']\n",
    "\n",
    "# get 3 point make percentage per player\n",
    "df_all['ThreePointersMadePct'] = df_all['ThreePointers'] / df_all['ThreePointersAttempted']\n",
    "\n",
    "# This is each player's make ability on a global level (NOTE this means it is not necessarily their ability in the \n",
    "# actual three point contest)\n",
    "print(df_all.shape)\n",
    "df_all = df_all.dropna()\n",
    "print(df_all.shape)\n",
    "df_all.head()"
   ]
  },
  {
   "cell_type": "code",
   "execution_count": null,
   "id": "1f1dc093",
   "metadata": {},
   "outputs": [],
   "source": [
    "df_all.to_csv('CleanedData.csv')"
   ]
  }
 ],
 "metadata": {
  "kernelspec": {
   "display_name": "Python 3 (ipykernel)",
   "language": "python",
   "name": "python3"
  },
  "language_info": {
   "codemirror_mode": {
    "name": "ipython",
    "version": 3
   },
   "file_extension": ".py",
   "mimetype": "text/x-python",
   "name": "python",
   "nbconvert_exporter": "python",
   "pygments_lexer": "ipython3",
   "version": "3.11.5"
  }
 },
 "nbformat": 4,
 "nbformat_minor": 5
}
